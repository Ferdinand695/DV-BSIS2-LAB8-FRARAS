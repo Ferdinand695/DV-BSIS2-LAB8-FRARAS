{
  "nbformat": 4,
  "nbformat_minor": 0,
  "metadata": {
    "colab": {
      "provenance": [],
      "authorship_tag": "ABX9TyN/xY34iH0iXh+svCcSzPhe",
      "include_colab_link": true
    },
    "kernelspec": {
      "name": "python3",
      "display_name": "Python 3"
    },
    "language_info": {
      "name": "python"
    }
  },
  "cells": [
    {
      "cell_type": "markdown",
      "metadata": {
        "id": "view-in-github",
        "colab_type": "text"
      },
      "source": [
        "<a href=\"https://colab.research.google.com/github/Ferdinand695/DV-BSIS2-LAB8-FRARAS/blob/main/lab8.ipynb\" target=\"_parent\"><img src=\"https://colab.research.google.com/assets/colab-badge.svg\" alt=\"Open In Colab\"/></a>"
      ]
    },
    {
      "cell_type": "code",
      "execution_count": 2,
      "metadata": {
        "colab": {
          "base_uri": "https://localhost:8080/"
        },
        "id": "qtgEnUcUCXXX",
        "outputId": "537b44c2-f223-46da-e9c5-26b556a5ca16"
      },
      "outputs": [
        {
          "output_type": "stream",
          "name": "stdout",
          "text": [
            "F\n",
            "e\n",
            "r\n",
            "d\n",
            "i\n",
            "n\n",
            "a\n",
            "n\n",
            "d\n",
            "0\n",
            "1\n",
            "2\n",
            "3\n",
            "4\n",
            "5\n",
            "6\n",
            "0\n",
            "1\n",
            "2\n",
            "3\n",
            "4\n",
            "5\n",
            "6\n",
            "Finally finished!\n",
            "apple\n",
            "dragon fruit\n",
            "banana\n",
            "Python\n",
            "Excel\n",
            "Rapid Miner\n",
            "R\n"
          ]
        }
      ],
      "source": [
        "\n",
        "myName=\"Ferdinand\"\n",
        "for x in myName:\n",
        "  print(x)\n",
        "Range=(7)\n",
        "for x in range(7):\n",
        "   print(x)\n",
        "\n",
        "Range=(7)\n",
        "for x in range(7):\n",
        "   print(x)\n",
        "else:\n",
        "   print(\"Finally finished!\")\n",
        "\n",
        "thislist=[\"apple\",\"dragon fruit\",\"banana\"]\n",
        "for x in thislist:\n",
        "  print(x)\n",
        "\n",
        "dataAnalyticsTools=['Python','Excel','Rapid Miner','R']\n",
        "for i in range(len(dataAnalyticsTools)):\n",
        "  print(dataAnalyticsTools[i])"
      ]
    }
  ]
}